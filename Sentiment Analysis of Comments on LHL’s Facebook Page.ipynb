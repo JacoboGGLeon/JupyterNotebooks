{
 "cells": [
  {
   "cell_type": "code",
   "execution_count": null,
   "metadata": {
    "collapsed": true
   },
   "outputs": [],
   "source": [
    "\"\"\"\n",
    "Sentiment Analysis of Comments on LHL’s Facebook Page\n",
    "https://medium.com/google-cloud/sentiment-analysis-of-comments-on-lhls-facebook-page-9db8b3a60eb3\n",
    "\n",
    "Let’s try to gauge public response to these statements based on Facebook comments. To do this, we will use:\n",
    "    *Python 3\n",
    "    *Facebook Graph API to download comments from Facebook\n",
    "    *the Google Cloud Natural Language API to perform sentiment analysis\n",
    "\n",
    "Facebook is by no means a source of objective views, the comments we will find on these posts are extremely \n",
    "likely to contain some degree of bias. There is also the possibility of moderation, further reducing the \n",
    "objectivity of our findings\n",
    "    \n",
    "Google Cloud Natural Language API to classify the comments on these posts as either positive, \n",
    "neutral or negative, and calculate the proportion of positive, neutral and negative comments \n",
    "on each of these posts.\n",
    "\"\"\""
   ]
  },
  {
   "cell_type": "code",
   "execution_count": null,
   "metadata": {
    "collapsed": true
   },
   "outputs": [],
   "source": []
  }
 ],
 "metadata": {
  "kernelspec": {
   "display_name": "Python 3",
   "language": "python",
   "name": "python3"
  },
  "language_info": {
   "codemirror_mode": {
    "name": "ipython",
    "version": 3
   },
   "file_extension": ".py",
   "mimetype": "text/x-python",
   "name": "python",
   "nbconvert_exporter": "python",
   "pygments_lexer": "ipython3",
   "version": "3.6.3"
  }
 },
 "nbformat": 4,
 "nbformat_minor": 2
}
